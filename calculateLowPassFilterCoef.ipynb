{
  "nbformat": 4,
  "nbformat_minor": 0,
  "metadata": {
    "colab": {
      "provenance": [],
      "toc_visible": true,
      "authorship_tag": "ABX9TyNf5ZOPoA3Wv7sFDdmxzDdm",
      "include_colab_link": true
    },
    "kernelspec": {
      "name": "python3",
      "display_name": "Python 3"
    },
    "language_info": {
      "name": "python"
    }
  },
  "cells": [
    {
      "cell_type": "markdown",
      "metadata": {
        "id": "view-in-github",
        "colab_type": "text"
      },
      "source": [
        "<a href=\"https://colab.research.google.com/github/HaiderAbbasSurrey/HaiderAbbasSurrey/blob/main/calculateLowPassFilterCoef.ipynb\" target=\"_parent\"><img src=\"https://colab.research.google.com/assets/colab-badge.svg\" alt=\"Open In Colab\"/></a>"
      ]
    },
    {
      "cell_type": "code",
      "source": [
        "import numpy as np\n",
        "from scipy.signal import butter\n",
        "# for ADC type 0 (fs = 16000 Hz)\n",
        "# Define the filter parameters\n",
        "Fs = 16000  # Sampling frequency in Hz\n",
        "Fc = 1000   # Cutoff frequency in Hz\n",
        "\n",
        "# Design the Butterworth low-pass filter\n",
        "b, a = butter(2, Fc / (Fs / 2), btype='low', analog=False)\n",
        "\n",
        "# Convert coefficients to S1.14 format\n",
        "def to_s114(coefficients, scale=2**14):\n",
        "    scaled = np.round(np.array(coefficients) * scale).astype(int)\n",
        "    hex_values = [hex(val & 0xFFFF) for val in scaled]  # Mask to 16 bits and convert to hex\n",
        "    return hex_values\n",
        "\n",
        "# Calculate fixed-point coefficients\n",
        "b_s114 = to_s114(b)\n",
        "a_s114 = to_s114(a)\n",
        "\n",
        "# Display the coefficients in hexadecimal format\n",
        "print(\"b coefficients (S1.14 format, hexadecimal):\")\n",
        "print(f\"b0 = {b_s114[0]}\")\n",
        "print(f\"b1 = {b_s114[1]}\")\n",
        "print(f\"b2 = {b_s114[2]}\")\n",
        "\n",
        "print(\"a coefficients (S1.14 format, hexadecimal):\")\n",
        "print(f\"a1 = {a_s114[1]}\")\n",
        "print(f\"a2 = {a_s114[2]}\")\n",
        "\n",
        "################################################################################################################################\n",
        "\n",
        "# for ADC type 1 (fs = 2000)\n",
        "\n",
        "# Define the filter parameters\n",
        "Fs = 2000  # Sampling frequency in Hz\n",
        "Fc = 100   # Cutoff frequency in Hz\n",
        "\n",
        "# Design the Butterworth low-pass filter\n",
        "b2, a2 = butter(2, Fc / (Fs / 2), btype='low', analog=False)\n",
        "\n",
        "# Convert coefficients to S1.14 format\n",
        "def to_s114(coefficients, scale=2**14):\n",
        "    scaled = np.round(np.array(coefficients) * scale).astype(int)\n",
        "    hex_values = [hex(val & 0xFFFF) for val in scaled]  # Mask to 16 bits and convert to hex\n",
        "    return hex_values\n",
        "\n",
        "# Calculate fixed-point coefficients\n",
        "b_s114 = to_s114(b2)\n",
        "a_s114 = to_s114(a2)\n",
        "\n",
        "# Display the coefficients in hexadecimal format\n",
        "print(\"b coefficients (S1.14 format, hexadecimal):\")\n",
        "print(f\"b0 = {b_s114[0]}\")\n",
        "print(f\"b1 = {b_s114[1]}\")\n",
        "print(f\"b2 = {b_s114[2]}\")\n",
        "\n",
        "print(\"a coefficients (S1.14 format, hexadecimal):\")\n",
        "print(f\"a1 = {a_s114[1]}\")\n",
        "print(f\"a2 = {a_s114[2]}\")"
      ],
      "metadata": {
        "colab": {
          "base_uri": "https://localhost:8080/"
        },
        "id": "fya5IhzdnSy1",
        "outputId": "9670b2a2-0c3b-40b2-fc1c-88e29c5d6cbd"
      },
      "execution_count": 18,
      "outputs": [
        {
          "output_type": "stream",
          "name": "stdout",
          "text": [
            "b coefficients (S1.14 format, hexadecimal):\n",
            "b0 = 0x1eb\n",
            "b1 = 0x3d6\n",
            "b2 = 0x1eb\n",
            "a coefficients (S1.14 format, hexadecimal):\n",
            "a1 = 0xa2ee\n",
            "a2 = 0x24bd\n",
            "b coefficients (S1.14 format, hexadecimal):\n",
            "b0 = 0x149\n",
            "b1 = 0x292\n",
            "b2 = 0x149\n",
            "a coefficients (S1.14 format, hexadecimal):\n",
            "a1 = 0x9c18\n",
            "a2 = 0x290c\n"
          ]
        }
      ]
    },
    {
      "cell_type": "markdown",
      "source": [
        "# New section"
      ],
      "metadata": {
        "id": "9Tv6Q9h6toUf"
      }
    },
    {
      "cell_type": "markdown",
      "source": [
        "# New section"
      ],
      "metadata": {
        "id": "AxngijH-to_8"
      }
    },
    {
      "cell_type": "code",
      "source": [],
      "metadata": {
        "id": "eIMZyActoGYp"
      },
      "execution_count": 15,
      "outputs": []
    }
  ]
}