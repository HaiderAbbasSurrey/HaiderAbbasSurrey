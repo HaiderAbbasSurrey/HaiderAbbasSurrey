{
  "cells": [
    {
      "cell_type": "markdown",
      "metadata": {
        "colab_type": "text",
        "id": "view-in-github"
      },
      "source": [
        "<a href=\"https://colab.research.google.com/github/HaiderAbbasSurrey/Project_Osprey/blob/main/calculateLowPassFilterCoef.ipynb\" target=\"_parent\"><img src=\"https://colab.research.google.com/assets/colab-badge.svg\" alt=\"Open In Colab\"/></a>"
      ]
    },
    {
      "cell_type": "code",
      "execution_count": 18,
      "metadata": {
        "colab": {
          "base_uri": "https://localhost:8080/"
        },
        "id": "fya5IhzdnSy1",
        "outputId": "9670b2a2-0c3b-40b2-fc1c-88e29c5d6cbd"
      },
      "outputs": [
        {
          "name": "stdout",
          "output_type": "stream",
          "text": [
            "b coefficients (S1.14 format, hexadecimal):\n",
            "b0 = 0x1eb\n",
            "b1 = 0x3d6\n",
            "b2 = 0x1eb\n",
            "a coefficients (S1.14 format, hexadecimal):\n",
            "a1 = 0xa2ee\n",
            "a2 = 0x24bd\n",
            "b coefficients (S1.14 format, hexadecimal):\n",
            "b0 = 0x149\n",
            "b1 = 0x292\n",
            "b2 = 0x149\n",
            "a coefficients (S1.14 format, hexadecimal):\n",
            "a1 = 0x9c18\n",
            "a2 = 0x290c\n"
          ]
        }
      ],
      "source": [
        "import numpy as np\n",
        "from scipy.signal import butter\n",
        "# for ADC type 0 (fs = 16000 Hz)\n",
        "# Define the filter parameters\n",
        "Fs = 16000  # Sampling frequency in Hz\n",
        "Fc = 1000   # Cutoff frequency in Hz\n",
        "\n",
        "# Design the Butterworth low-pass filter\n",
        "b, a = butter(2, Fc / (Fs / 2), btype='low', analog=False)\n",
        "\n",
        "# Convert coefficients to S1.14 format\n",
        "def to_s114(coefficients, scale=2**14):\n",
        "    scaled = np.round(np.array(coefficients) * scale).astype(int)\n",
        "    hex_values = [hex(val & 0xFFFF) for val in scaled]  # Mask to 16 bits and convert to hex\n",
        "    return hex_values\n",
        "\n",
        "# Calculate fixed-point coefficients\n",
        "b_s114 = to_s114(b)\n",
        "a_s114 = to_s114(a)\n",
        "\n",
        "# Display the coefficients in hexadecimal format\n",
        "print(\"b coefficients (S1.14 format, hexadecimal):\")\n",
        "print(f\"b0 = {b_s114[0]}\")\n",
        "print(f\"b1 = {b_s114[1]}\")\n",
        "print(f\"b2 = {b_s114[2]}\")\n",
        "\n",
        "print(\"a coefficients (S1.14 format, hexadecimal):\")\n",
        "print(f\"a1 = {a_s114[1]}\")\n",
        "print(f\"a2 = {a_s114[2]}\")\n",
        "\n",
        "################################################################################################################################\n",
        "\n",
        "# for ADC type 1 (fs = 2000)\n",
        "\n",
        "# Define the filter parameters\n",
        "Fs = 2000  # Sampling frequency in Hz\n",
        "Fc = 100   # Cutoff frequency in Hz\n",
        "\n",
        "# Design the Butterworth low-pass filter\n",
        "b2, a2 = butter(2, Fc / (Fs / 2), btype='low', analog=False)\n",
        "\n",
        "# Convert coefficients to S1.14 format\n",
        "def to_s114(coefficients, scale=2**14):\n",
        "    scaled = np.round(np.array(coefficients) * scale).astype(int)\n",
        "    hex_values = [hex(val & 0xFFFF) for val in scaled]  # Mask to 16 bits and convert to hex\n",
        "    return hex_values\n",
        "\n",
        "# Calculate fixed-point coefficients\n",
        "b_s114 = to_s114(b2)\n",
        "a_s114 = to_s114(a2)\n",
        "\n",
        "# Display the coefficients in hexadecimal format\n",
        "print(\"b coefficients (S1.14 format, hexadecimal):\")\n",
        "print(f\"b0 = {b_s114[0]}\")\n",
        "print(f\"b1 = {b_s114[1]}\")\n",
        "print(f\"b2 = {b_s114[2]}\")\n",
        "\n",
        "print(\"a coefficients (S1.14 format, hexadecimal):\")\n",
        "print(f\"a1 = {a_s114[1]}\")\n",
        "print(f\"a2 = {a_s114[2]}\")"
      ]
    },
    {
      "cell_type": "markdown",
      "metadata": {
        "id": "9Tv6Q9h6toUf"
      },
      "source": [
        "# New section"
      ]
    },
    {
      "cell_type": "markdown",
      "metadata": {
        "id": "AxngijH-to_8"
      },
      "source": [
        "# New section"
      ]
    },
    {
      "cell_type": "code",
      "execution_count": 15,
      "metadata": {
        "id": "eIMZyActoGYp"
      },
      "outputs": [],
      "source": []
    }
  ],
  "metadata": {
    "colab": {
      "authorship_tag": "ABX9TyNf5ZOPoA3Wv7sFDdmxzDdm",
      "include_colab_link": true,
      "provenance": [],
      "toc_visible": true
    },
    "kernelspec": {
      "display_name": "Python 3",
      "name": "python3"
    },
    "language_info": {
      "name": "python"
    }
  },
  "nbformat": 4,
  "nbformat_minor": 0
}
